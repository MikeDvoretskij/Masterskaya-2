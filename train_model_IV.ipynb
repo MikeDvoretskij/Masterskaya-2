{
 "cells": [
  {
   "cell_type": "code",
   "execution_count": 1,
   "metadata": {},
   "outputs": [],
   "source": [
    "import numpy as np\n",
    "import pandas as pd\n",
    "import faiss\n",
    "from sklearn.preprocessing import MinMaxScaler\n",
    "import matplotlib.pyplot as plt"
   ]
  },
  {
   "cell_type": "code",
   "execution_count": 2,
   "metadata": {},
   "outputs": [],
   "source": [
    "minmaxscaler = MinMaxScaler((-50, 50))"
   ]
  },
  {
   "cell_type": "code",
   "execution_count": 3,
   "metadata": {},
   "outputs": [],
   "source": [
    "data_base = pd.read_csv(\"../Masterskaya-2/data/base.csv\", index_col=0)"
   ]
  },
  {
   "cell_type": "code",
   "execution_count": 4,
   "metadata": {},
   "outputs": [],
   "source": [
    "drop_columns = [\"6\", \"44\", \"70\", \"21\", \"25\", \"33\", \"59\", \"65\"]\n",
    "data_base = data_base.drop(drop_columns, axis=1)"
   ]
  },
  {
   "cell_type": "code",
   "execution_count": 5,
   "metadata": {},
   "outputs": [],
   "source": [
    "# plt.rcParams[\"figure.figsize\"] = (100, 100)\n",
    "# for i, b in enumerate([x for x in range(0, 72)]):\n",
    "#     # Set up the plot\n",
    "#     ax = plt.subplot(36, 2, i + 1)\n",
    "\n",
    "#     # Draw the plot\n",
    "#     ax.hist(data_base[str(i)], bins=100)\n",
    "\n",
    "#     # Title and labels\n",
    "#     ax.set_title(i)\n",
    "\n",
    "# plt.tight_layout()\n",
    "# plt.show()"
   ]
  },
  {
   "cell_type": "code",
   "execution_count": 8,
   "metadata": {},
   "outputs": [],
   "source": [
    "dims = data_base.shape[1]\n",
    "cells = 1"
   ]
  },
  {
   "cell_type": "code",
   "execution_count": 9,
   "metadata": {},
   "outputs": [],
   "source": [
    "data_base = minmaxscaler.fit_transform(data_base)"
   ]
  },
  {
   "cell_type": "code",
   "execution_count": 10,
   "metadata": {},
   "outputs": [],
   "source": [
    "index_flat = faiss.IndexFlatL2(dims)\n",
    "clustering_index = faiss.index_cpu_to_all_gpus(index_flat)\n",
    "idx_l2 = faiss.IndexIVFFlat(clustering_index, dims, cells)"
   ]
  },
  {
   "cell_type": "code",
   "execution_count": 11,
   "metadata": {},
   "outputs": [],
   "source": [
    "idx_l2.train(np.ascontiguousarray(data_base).astype('float32'))\n",
    "idx_l2.add(np.ascontiguousarray(data_base).astype('float32'))"
   ]
  },
  {
   "cell_type": "code",
   "execution_count": 12,
   "metadata": {},
   "outputs": [],
   "source": [
    "idx_l2 = faiss.index_gpu_to_cpu(idx_l2)"
   ]
  }
 ],
 "metadata": {
  "kernelspec": {
   "display_name": "Python 3 (ipykernel)",
   "language": "python",
   "name": "python3"
  },
  "language_info": {
   "codemirror_mode": {
    "name": "ipython",
    "version": 3
   },
   "file_extension": ".py",
   "mimetype": "text/x-python",
   "name": "python",
   "nbconvert_exporter": "python",
   "pygments_lexer": "ipython3",
   "version": "3.9.16"
  }
 },
 "nbformat": 4,
 "nbformat_minor": 2
}
