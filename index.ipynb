{
 "cells": [
  {
   "cell_type": "code",
   "execution_count": 1,
   "metadata": {},
   "outputs": [],
   "source": [
    "import numpy as np\n",
    "import pandas as pd\n",
    "import faiss\n",
    "import pickle\n",
    "from sklearn.preprocessing import MinMaxScaler\n",
    "import tqdm"
   ]
  },
  {
   "cell_type": "code",
   "execution_count": 2,
   "metadata": {},
   "outputs": [],
   "source": [
    "minmaxscaler = MinMaxScaler((-50, 50))"
   ]
  },
  {
   "cell_type": "code",
   "execution_count": 3,
   "metadata": {},
   "outputs": [],
   "source": [
    "drop_columns = [\"6\", \"44\", \"70\", \"21\", \"25\", \"33\", \"59\", \"65\"]"
   ]
  },
  {
   "cell_type": "code",
   "execution_count": 4,
   "metadata": {},
   "outputs": [],
   "source": [
    "# data_base = pd.read_csv(\"../Masterskaya-2/data/base.csv\", index_col=0)\n",
    "# data_validation = pd.read_csv(\"../Masterskaya-2/data/validation.csv\", index_col=0)\n",
    "# data_validation_answer = pd.read_csv(\"../Masterskaya-2/data/validation_answer.csv\", index_col=0)[\"Expected\"]"
   ]
  },
  {
   "cell_type": "code",
   "execution_count": 5,
   "metadata": {},
   "outputs": [],
   "source": [
    "data_base = pd.read_csv(\"../Masterskaya-2/data/base.csv\", index_col=0)\n",
    "data_validation = pd.read_csv(\"../Masterskaya-2/data/validation.csv\", index_col=0)\n",
    "data_validation_answer = pd.read_csv(\"../Masterskaya-2/data/validation_answer.csv\", index_col=0)[\"Expected\"]\n",
    "\n",
    "data_base = data_base.drop(drop_columns, axis=1)\n",
    "data_validation = data_validation.drop(drop_columns, axis=1)"
   ]
  },
  {
   "cell_type": "code",
   "execution_count": 6,
   "metadata": {},
   "outputs": [],
   "source": [
    "base_index = {k: v for k, v in enumerate(pd.DataFrame(data_base).index.to_list())}"
   ]
  },
  {
   "cell_type": "code",
   "execution_count": 7,
   "metadata": {},
   "outputs": [],
   "source": [
    "data_base = minmaxscaler.fit_transform(data_base)\n",
    "data_validation = minmaxscaler.transform(data_validation)"
   ]
  },
  {
   "cell_type": "code",
   "execution_count": 8,
   "metadata": {},
   "outputs": [],
   "source": [
    "minmaxscaler = None"
   ]
  },
  {
   "cell_type": "code",
   "execution_count": 9,
   "metadata": {},
   "outputs": [],
   "source": [
    "with open('../Masterskaya-2/models/model.pkl', 'rb') as fid:\n",
    "    model = pickle.load(fid)\n",
    "    fid.close()"
   ]
  },
  {
   "cell_type": "code",
   "execution_count": 10,
   "metadata": {},
   "outputs": [],
   "source": [
    "data_validation = pd.DataFrame(model.predict(data_validation))"
   ]
  },
  {
   "cell_type": "code",
   "execution_count": 11,
   "metadata": {},
   "outputs": [],
   "source": [
    "model = faiss.read_index(\"../Masterskaya-2/models/model.faiss\")\n",
    "model = faiss.index_cpu_to_all_gpus(model)\n",
    "# model.nprobe = 5"
   ]
  },
  {
   "cell_type": "code",
   "execution_count": 12,
   "metadata": {},
   "outputs": [],
   "source": [
    "vecs, idx = model.search(np.ascontiguousarray(data_validation).astype('float32'), 2000)"
   ]
  },
  {
   "cell_type": "code",
   "execution_count": 13,
   "metadata": {},
   "outputs": [],
   "source": [
    "model = None"
   ]
  },
  {
   "cell_type": "code",
   "execution_count": 14,
   "metadata": {},
   "outputs": [
    {
     "name": "stdout",
     "output_type": "stream",
     "text": [
      "86.788\n"
     ]
    }
   ],
   "source": [
    "acc = 0\n",
    "for target, el in zip(data_validation_answer.values.tolist(), idx.tolist()):\n",
    "    acc += int(target in [base_index[r] for r in el])\n",
    "print(100 * acc / len(idx))"
   ]
  },
  {
   "cell_type": "code",
   "execution_count": 15,
   "metadata": {},
   "outputs": [],
   "source": [
    "# vectors_index = []\n",
    "# for target, el in tqdm.tqdm(zip(data_validation_answer.values.tolist(), idx.tolist())):             \n",
    "#     data_list = [base_index[r] for r in el]\n",
    "#     try:\n",
    "#         index = data_list.index(target)\n",
    "#         data_list.pop(index)\n",
    "#     except Exception:\n",
    "#         continue\n",
    "#     vectors_index.append(data_list)\n"
   ]
  },
  {
   "cell_type": "code",
   "execution_count": 16,
   "metadata": {},
   "outputs": [],
   "source": [
    "# base_index = None\n",
    "# vecs = None\n",
    "# idx = None"
   ]
  },
  {
   "cell_type": "code",
   "execution_count": 17,
   "metadata": {},
   "outputs": [],
   "source": [
    "# data_base = pd.read_csv(\"../Masterskaya-2/data/base.csv\", index_col=0)"
   ]
  },
  {
   "cell_type": "code",
   "execution_count": 18,
   "metadata": {},
   "outputs": [],
   "source": [
    "# vectors = []\n",
    "# for i in vectors_index:\n",
    "#     matrix = []\n",
    "#     for el in i:\n",
    "#         matrix.append(data_base.loc[el].to_list())\n",
    "#     vectors.append(matrix)"
   ]
  },
  {
   "cell_type": "code",
   "execution_count": 19,
   "metadata": {},
   "outputs": [],
   "source": [
    "# data_base = None\n",
    "# vectors_index = None"
   ]
  },
  {
   "cell_type": "code",
   "execution_count": 20,
   "metadata": {},
   "outputs": [],
   "source": [
    "# df = pd.DataFrame(columns=[x for x in range(0, 72)])\n",
    "# for i in tqdm.tqdm(range(len(vectors))):\n",
    "#     for el in range(len(vectors[i])):\n",
    "#         df.loc[len(df.index)] = data_validation.loc[i]"
   ]
  },
  {
   "cell_type": "code",
   "execution_count": 21,
   "metadata": {},
   "outputs": [],
   "source": [
    "# df.to_csv(\"./data/data_prediction_ranker_serched_vectors.csv\")"
   ]
  }
 ],
 "metadata": {
  "kernelspec": {
   "display_name": "Python 3 (ipykernel)",
   "language": "python",
   "name": "python3"
  },
  "language_info": {
   "codemirror_mode": {
    "name": "ipython",
    "version": 3
   },
   "file_extension": ".py",
   "mimetype": "text/x-python",
   "name": "python",
   "nbconvert_exporter": "python",
   "pygments_lexer": "ipython3",
   "version": "3.9.16"
  }
 },
 "nbformat": 4,
 "nbformat_minor": 2
}
