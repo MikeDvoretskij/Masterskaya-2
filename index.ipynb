{
 "cells": [
  {
   "cell_type": "code",
   "execution_count": 1,
   "metadata": {},
   "outputs": [],
   "source": [
    "import numpy as np\n",
    "import pandas as pd\n",
    "import faiss\n",
    "import pickle\n",
    "from sklearn.preprocessing import MinMaxScaler, RobustScaler, Normalizer, StandardScaler\n",
    "import json\n",
    "import tqdm"
   ]
  },
  {
   "cell_type": "code",
   "execution_count": 2,
   "metadata": {},
   "outputs": [],
   "source": [
    "minmaxscaler = StandardScaler()"
   ]
  },
  {
   "cell_type": "code",
   "execution_count": 3,
   "metadata": {},
   "outputs": [],
   "source": [
    "drop_columns = [\"6\", \"44\", \"70\", \"21\", \"25\", \"33\", \"59\", \"65\"]"
   ]
  },
  {
   "cell_type": "code",
   "execution_count": 4,
   "metadata": {},
   "outputs": [],
   "source": [
    "data_base = pd.read_csv(\"../Masterskaya-2/data/base.csv\", index_col=0)\n",
    "data_validation = pd.read_csv(\"../Masterskaya-2/data/validation.csv\", index_col=0)\n",
    "data_validation_answer = pd.read_csv(\"../Masterskaya-2/data/validation_answer.csv\", index_col=0)"
   ]
  },
  {
   "cell_type": "code",
   "execution_count": null,
   "metadata": {},
   "outputs": [],
   "source": [
    "# data_base = pd.read_csv(\"../Masterskaya-2/data/base.csv\", index_col=0)\n",
    "data_validation = pd.read_csv(\"../Masterskaya-2/data/validation.csv\", index_col=0)\n",
    "data_validation_answer = pd.read_csv(\"../Masterskaya-2/data/validation_answer.csv\", index_col=0)[\"Expected\"]\n",
    "# data_train = pd.read_csv(\"./data/train.csv\", index_col=0)\n",
    "\n",
    "data_base = data_base.drop(drop_columns, axis=1)\n",
    "data_validation = data_validation.drop(drop_columns, axis=1)\n",
    "# data_train = data_train.drop(drop_columns, axis=1)\n",
    "# data_train_target = data_train[\"Target\"]\n",
    "# data_train = data_train.drop([\"Target\"], axis=1)"
   ]
  },
  {
   "cell_type": "code",
   "execution_count": null,
   "metadata": {},
   "outputs": [],
   "source": [
    "base_index = {k: v for k, v in enumerate(pd.DataFrame(data_base).index.to_list())}"
   ]
  },
  {
   "cell_type": "code",
   "execution_count": null,
   "metadata": {},
   "outputs": [],
   "source": [
    "data_base = minmaxscaler.fit_transform(data_base)\n",
    "data_validation = minmaxscaler.transform(data_validation)\n",
    "# data_train = minmaxscaler.transform(data_train)"
   ]
  },
  {
   "cell_type": "code",
   "execution_count": null,
   "metadata": {},
   "outputs": [],
   "source": [
    "minmaxscaler = None"
   ]
  },
  {
   "cell_type": "code",
   "execution_count": null,
   "metadata": {},
   "outputs": [],
   "source": [
    "# with open('../Masterskaya-2/models/model.pkl', 'rb') as fid:\n",
    "#     model = pickle.load(fid)\n",
    "#     fid.close()"
   ]
  },
  {
   "cell_type": "code",
   "execution_count": null,
   "metadata": {},
   "outputs": [],
   "source": [
    "# data_validation = pd.DataFrame(model.predict(data_validation))"
   ]
  },
  {
   "cell_type": "code",
   "execution_count": null,
   "metadata": {},
   "outputs": [],
   "source": [
    "model = faiss.read_index(\"../Masterskaya-2/models/model.faiss\")\n",
    "model = faiss.index_cpu_to_all_gpus(model)\n",
    "# model.nprobe = 5"
   ]
  },
  {
   "cell_type": "code",
   "execution_count": null,
   "metadata": {},
   "outputs": [],
   "source": [
    "vecs, idx = model.search(np.ascontiguousarray(data_validation).astype('float32'), 10)"
   ]
  },
  {
   "cell_type": "code",
   "execution_count": null,
   "metadata": {},
   "outputs": [],
   "source": [
    "model = None"
   ]
  },
  {
   "cell_type": "code",
   "execution_count": null,
   "metadata": {},
   "outputs": [],
   "source": [
    "# acc = 0\n",
    "# for target, el in zip(data_validation_answer.values.tolist(), idx.tolist()):\n",
    "#     acc += int(target in [base_index[r] for r in el])\n",
    "# print(100 * acc / len(idx))"
   ]
  },
  {
   "cell_type": "code",
   "execution_count": null,
   "metadata": {},
   "outputs": [
    {
     "name": "stderr",
     "output_type": "stream",
     "text": [
      "100000it [11:02, 150.99it/s]\n"
     ]
    }
   ],
   "source": [
    "targets = {}\n",
    "for target, el in tqdm.tqdm(zip(data_validation_answer.values.tolist(), idx.tolist())):\n",
    "    # try:\n",
    "    #     targs = [base_index[r] for r in el]\n",
    "    #     targs.remove(target)\n",
    "    # except:\n",
    "    #     targs = [base_index[r] for r in el]\n",
    "    targs = [base_index[r] for r in el]\n",
    "    targets[data_validation_answer[data_validation_answer == target].index.to_list()[0]] = targs\n",
    "    "
   ]
  },
  {
   "cell_type": "code",
   "execution_count": null,
   "metadata": {},
   "outputs": [],
   "source": [
    "with open(\"./data/predictions_targets.json\", \"w\") as file:\n",
    "    json.dump(targets, file, )\n",
    "    "
   ]
  }
 ],
 "metadata": {
  "kernelspec": {
   "display_name": "Python 3 (ipykernel)",
   "language": "python",
   "name": "python3"
  },
  "language_info": {
   "codemirror_mode": {
    "name": "ipython",
    "version": 3
   },
   "file_extension": ".py",
   "mimetype": "text/x-python",
   "name": "python",
   "nbconvert_exporter": "python",
   "pygments_lexer": "ipython3",
   "version": "3.9.16"
  }
 },
 "nbformat": 4,
 "nbformat_minor": 2
}
