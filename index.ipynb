{
 "cells": [
  {
   "cell_type": "code",
   "execution_count": 1,
   "metadata": {},
   "outputs": [],
   "source": [
    "import numpy as np\n",
    "import matplotlib.pyplot as plt\n",
    "import pandas as pd\n",
    "import faiss\n",
    "import pickle"
   ]
  },
  {
   "cell_type": "code",
   "execution_count": 2,
   "metadata": {},
   "outputs": [],
   "source": [
    "#data_target = pd.read_csv(\"../Masterskaya-2/data/train.csv\", index_col=0)\n",
    "data_base = pd.read_csv(\"../Masterskaya-2/data/base.csv\", index_col=0)\n",
    "data_validation = pd.read_csv(\"../Masterskaya-2/data/validation.csv\", index_col=0)\n",
    "data_validation_answer = pd.read_csv(\"../Masterskaya-2/data/validation_answer.csv\", index_col=0)[\"Expected\"]"
   ]
  },
  {
   "cell_type": "code",
   "execution_count": 3,
   "metadata": {},
   "outputs": [],
   "source": [
    "with open('model.pkl', 'rb') as fid:\n",
    "    model_regressor = pickle.load(fid)\n",
    "    fid.close()"
   ]
  },
  {
   "cell_type": "code",
   "execution_count": 4,
   "metadata": {},
   "outputs": [],
   "source": [
    "prediction = model_regressor.predict(data_validation)\n",
    "model_regressor = None"
   ]
  },
  {
   "cell_type": "code",
   "execution_count": 5,
   "metadata": {},
   "outputs": [],
   "source": [
    "data_validation = None"
   ]
  },
  {
   "cell_type": "code",
   "execution_count": 6,
   "metadata": {},
   "outputs": [],
   "source": [
    "model = faiss.read_index(\"model.faiss\")\n",
    "model = faiss.index_cpu_to_all_gpus(model)\n",
    "model.nprobe = 10"
   ]
  },
  {
   "cell_type": "code",
   "execution_count": 7,
   "metadata": {},
   "outputs": [],
   "source": [
    "base_index = {k: v for k, v in enumerate(pd.DataFrame(data_base).index.to_list())}"
   ]
  },
  {
   "cell_type": "code",
   "execution_count": 16,
   "metadata": {},
   "outputs": [],
   "source": [
    "vecs, idx = model.search(np.ascontiguousarray(prediction).astype('float32'), 1000)"
   ]
  },
  {
   "cell_type": "code",
   "execution_count": 17,
   "metadata": {},
   "outputs": [
    {
     "name": "stdout",
     "output_type": "stream",
     "text": [
      "29.464\n"
     ]
    }
   ],
   "source": [
    "acc = 0\n",
    "for target, el in zip(data_validation_answer.values.tolist(), idx.tolist()):\n",
    "    acc += int(target in [base_index[r] for r in el])\n",
    "print(100 * acc / len(idx))"
   ]
  },
  {
   "cell_type": "code",
   "execution_count": 10,
   "metadata": {},
   "outputs": [],
   "source": [
    "# acc = 0\n",
    "# for target, el in zip(targets.values.tolist(), idx.tolist()):\n",
    "#     acc += int(target in [base_index[r] for r in el])\n",
    "# print(100 * acc / len(idx))"
   ]
  }
 ],
 "metadata": {
  "kernelspec": {
   "display_name": "ds_practicum_env",
   "language": "python",
   "name": "python3"
  },
  "language_info": {
   "codemirror_mode": {
    "name": "ipython",
    "version": 3
   },
   "file_extension": ".py",
   "mimetype": "text/x-python",
   "name": "python",
   "nbconvert_exporter": "python",
   "pygments_lexer": "ipython3",
   "version": "3.9.16"
  },
  "orig_nbformat": 4
 },
 "nbformat": 4,
 "nbformat_minor": 2
}
