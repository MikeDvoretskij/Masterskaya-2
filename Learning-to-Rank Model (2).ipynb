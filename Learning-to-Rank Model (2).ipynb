{
 "cells": [
  {
   "cell_type": "code",
   "execution_count": 33,
   "metadata": {
    "id": "tmGovCci7OLU"
   },
   "outputs": [],
   "source": [
    "import faiss\n",
    "import numpy as np\n",
    "import pandas as pd\n",
    "from sklearn.model_selection import train_test_split\n",
    "import matplotlib.pyplot as plt\n",
    "import json\n",
    "import xgboost as xgb\n",
    "import catboost\n",
    "from sklearn.preprocessing import MinMaxScaler\n",
    "from sklearn.metrics import accuracy_score\n",
    "import tqdm"
   ]
  },
  {
   "cell_type": "markdown",
   "metadata": {
    "id": "sWv23fijA7Ig"
   },
   "source": [
    "# The Dataset Preparation for the L2R Model"
   ]
  },
  {
   "cell_type": "code",
   "execution_count": 2,
   "metadata": {},
   "outputs": [],
   "source": [
    "# Load datasets\n",
    "base = pd.read_csv(\"./data/base.csv\")\n",
    "train = pd.read_csv(\"./data/train.csv\")"
   ]
  },
  {
   "cell_type": "code",
   "execution_count": 3,
   "metadata": {},
   "outputs": [
    {
     "data": {
      "text/html": [
       "<div>\n",
       "<style scoped>\n",
       "    .dataframe tbody tr th:only-of-type {\n",
       "        vertical-align: middle;\n",
       "    }\n",
       "\n",
       "    .dataframe tbody tr th {\n",
       "        vertical-align: top;\n",
       "    }\n",
       "\n",
       "    .dataframe thead th {\n",
       "        text-align: right;\n",
       "    }\n",
       "</style>\n",
       "<table border=\"1\" class=\"dataframe\">\n",
       "  <thead>\n",
       "    <tr style=\"text-align: right;\">\n",
       "      <th></th>\n",
       "      <th>Id</th>\n",
       "      <th>0</th>\n",
       "      <th>1</th>\n",
       "      <th>2</th>\n",
       "      <th>3</th>\n",
       "      <th>4</th>\n",
       "      <th>5</th>\n",
       "      <th>6</th>\n",
       "      <th>7</th>\n",
       "      <th>8</th>\n",
       "      <th>...</th>\n",
       "      <th>62</th>\n",
       "      <th>63</th>\n",
       "      <th>64</th>\n",
       "      <th>65</th>\n",
       "      <th>66</th>\n",
       "      <th>67</th>\n",
       "      <th>68</th>\n",
       "      <th>69</th>\n",
       "      <th>70</th>\n",
       "      <th>71</th>\n",
       "    </tr>\n",
       "  </thead>\n",
       "  <tbody>\n",
       "    <tr>\n",
       "      <th>0</th>\n",
       "      <td>0-base</td>\n",
       "      <td>-115.083890</td>\n",
       "      <td>11.152912</td>\n",
       "      <td>-64.426760</td>\n",
       "      <td>-118.88089</td>\n",
       "      <td>216.482440</td>\n",
       "      <td>-104.698060</td>\n",
       "      <td>-469.070588</td>\n",
       "      <td>44.348083</td>\n",
       "      <td>120.915344</td>\n",
       "      <td>...</td>\n",
       "      <td>-42.808693</td>\n",
       "      <td>38.800827</td>\n",
       "      <td>-151.76218</td>\n",
       "      <td>-74.389090</td>\n",
       "      <td>63.66634</td>\n",
       "      <td>-4.703861</td>\n",
       "      <td>92.933610</td>\n",
       "      <td>115.269190</td>\n",
       "      <td>-112.756640</td>\n",
       "      <td>-60.830353</td>\n",
       "    </tr>\n",
       "    <tr>\n",
       "      <th>1</th>\n",
       "      <td>1-base</td>\n",
       "      <td>-34.562202</td>\n",
       "      <td>13.332763</td>\n",
       "      <td>-69.787610</td>\n",
       "      <td>-166.53348</td>\n",
       "      <td>57.680607</td>\n",
       "      <td>-86.098370</td>\n",
       "      <td>-85.076666</td>\n",
       "      <td>-35.637436</td>\n",
       "      <td>119.718636</td>\n",
       "      <td>...</td>\n",
       "      <td>-117.767525</td>\n",
       "      <td>41.100000</td>\n",
       "      <td>-157.82940</td>\n",
       "      <td>-94.446806</td>\n",
       "      <td>68.20211</td>\n",
       "      <td>24.346846</td>\n",
       "      <td>179.937930</td>\n",
       "      <td>116.834000</td>\n",
       "      <td>-84.888941</td>\n",
       "      <td>-59.524610</td>\n",
       "    </tr>\n",
       "    <tr>\n",
       "      <th>2</th>\n",
       "      <td>2-base</td>\n",
       "      <td>-54.233746</td>\n",
       "      <td>6.379371</td>\n",
       "      <td>-29.210136</td>\n",
       "      <td>-133.41383</td>\n",
       "      <td>150.895830</td>\n",
       "      <td>-99.435326</td>\n",
       "      <td>52.554795</td>\n",
       "      <td>62.381706</td>\n",
       "      <td>128.951450</td>\n",
       "      <td>...</td>\n",
       "      <td>-76.397800</td>\n",
       "      <td>46.011803</td>\n",
       "      <td>-207.14442</td>\n",
       "      <td>127.325570</td>\n",
       "      <td>65.56618</td>\n",
       "      <td>66.325680</td>\n",
       "      <td>81.073490</td>\n",
       "      <td>116.594154</td>\n",
       "      <td>-1074.464888</td>\n",
       "      <td>-32.527206</td>\n",
       "    </tr>\n",
       "    <tr>\n",
       "      <th>3</th>\n",
       "      <td>3-base</td>\n",
       "      <td>-87.520130</td>\n",
       "      <td>4.037884</td>\n",
       "      <td>-87.803030</td>\n",
       "      <td>-185.06763</td>\n",
       "      <td>76.369540</td>\n",
       "      <td>-58.985165</td>\n",
       "      <td>-383.182845</td>\n",
       "      <td>-33.611237</td>\n",
       "      <td>122.031910</td>\n",
       "      <td>...</td>\n",
       "      <td>-70.647940</td>\n",
       "      <td>-6.358921</td>\n",
       "      <td>-147.20105</td>\n",
       "      <td>-37.692750</td>\n",
       "      <td>66.20289</td>\n",
       "      <td>-20.566910</td>\n",
       "      <td>137.206940</td>\n",
       "      <td>117.474100</td>\n",
       "      <td>-1074.464888</td>\n",
       "      <td>-72.915490</td>\n",
       "    </tr>\n",
       "    <tr>\n",
       "      <th>4</th>\n",
       "      <td>4-base</td>\n",
       "      <td>-72.743850</td>\n",
       "      <td>6.522049</td>\n",
       "      <td>43.671265</td>\n",
       "      <td>-140.60803</td>\n",
       "      <td>5.820023</td>\n",
       "      <td>-112.074080</td>\n",
       "      <td>-397.711282</td>\n",
       "      <td>45.182500</td>\n",
       "      <td>122.167180</td>\n",
       "      <td>...</td>\n",
       "      <td>-57.199104</td>\n",
       "      <td>56.642403</td>\n",
       "      <td>-159.35184</td>\n",
       "      <td>85.944724</td>\n",
       "      <td>66.76632</td>\n",
       "      <td>-2.505783</td>\n",
       "      <td>65.315285</td>\n",
       "      <td>135.051590</td>\n",
       "      <td>-1074.464888</td>\n",
       "      <td>0.319401</td>\n",
       "    </tr>\n",
       "  </tbody>\n",
       "</table>\n",
       "<p>5 rows × 73 columns</p>\n",
       "</div>"
      ],
      "text/plain": [
       "       Id           0          1          2          3           4  \\\n",
       "0  0-base -115.083890  11.152912 -64.426760 -118.88089  216.482440   \n",
       "1  1-base  -34.562202  13.332763 -69.787610 -166.53348   57.680607   \n",
       "2  2-base  -54.233746   6.379371 -29.210136 -133.41383  150.895830   \n",
       "3  3-base  -87.520130   4.037884 -87.803030 -185.06763   76.369540   \n",
       "4  4-base  -72.743850   6.522049  43.671265 -140.60803    5.820023   \n",
       "\n",
       "            5           6          7           8  ...          62         63  \\\n",
       "0 -104.698060 -469.070588  44.348083  120.915344  ...  -42.808693  38.800827   \n",
       "1  -86.098370  -85.076666 -35.637436  119.718636  ... -117.767525  41.100000   \n",
       "2  -99.435326   52.554795  62.381706  128.951450  ...  -76.397800  46.011803   \n",
       "3  -58.985165 -383.182845 -33.611237  122.031910  ...  -70.647940  -6.358921   \n",
       "4 -112.074080 -397.711282  45.182500  122.167180  ...  -57.199104  56.642403   \n",
       "\n",
       "          64          65        66         67          68          69  \\\n",
       "0 -151.76218  -74.389090  63.66634  -4.703861   92.933610  115.269190   \n",
       "1 -157.82940  -94.446806  68.20211  24.346846  179.937930  116.834000   \n",
       "2 -207.14442  127.325570  65.56618  66.325680   81.073490  116.594154   \n",
       "3 -147.20105  -37.692750  66.20289 -20.566910  137.206940  117.474100   \n",
       "4 -159.35184   85.944724  66.76632  -2.505783   65.315285  135.051590   \n",
       "\n",
       "            70         71  \n",
       "0  -112.756640 -60.830353  \n",
       "1   -84.888941 -59.524610  \n",
       "2 -1074.464888 -32.527206  \n",
       "3 -1074.464888 -72.915490  \n",
       "4 -1074.464888   0.319401  \n",
       "\n",
       "[5 rows x 73 columns]"
      ]
     },
     "execution_count": 3,
     "metadata": {},
     "output_type": "execute_result"
    }
   ],
   "source": [
    "base.head()"
   ]
  },
  {
   "cell_type": "code",
   "execution_count": 4,
   "metadata": {},
   "outputs": [
    {
     "data": {
      "text/html": [
       "<div>\n",
       "<style scoped>\n",
       "    .dataframe tbody tr th:only-of-type {\n",
       "        vertical-align: middle;\n",
       "    }\n",
       "\n",
       "    .dataframe tbody tr th {\n",
       "        vertical-align: top;\n",
       "    }\n",
       "\n",
       "    .dataframe thead th {\n",
       "        text-align: right;\n",
       "    }\n",
       "</style>\n",
       "<table border=\"1\" class=\"dataframe\">\n",
       "  <thead>\n",
       "    <tr style=\"text-align: right;\">\n",
       "      <th></th>\n",
       "      <th>Id</th>\n",
       "      <th>0</th>\n",
       "      <th>1</th>\n",
       "      <th>2</th>\n",
       "      <th>3</th>\n",
       "      <th>4</th>\n",
       "      <th>5</th>\n",
       "      <th>6</th>\n",
       "      <th>7</th>\n",
       "      <th>8</th>\n",
       "      <th>...</th>\n",
       "      <th>63</th>\n",
       "      <th>64</th>\n",
       "      <th>65</th>\n",
       "      <th>66</th>\n",
       "      <th>67</th>\n",
       "      <th>68</th>\n",
       "      <th>69</th>\n",
       "      <th>70</th>\n",
       "      <th>71</th>\n",
       "      <th>Target</th>\n",
       "    </tr>\n",
       "  </thead>\n",
       "  <tbody>\n",
       "    <tr>\n",
       "      <th>0</th>\n",
       "      <td>0-query</td>\n",
       "      <td>-53.882748</td>\n",
       "      <td>17.971436</td>\n",
       "      <td>-42.117104</td>\n",
       "      <td>-183.93668</td>\n",
       "      <td>187.517490</td>\n",
       "      <td>-87.144930</td>\n",
       "      <td>-347.360606</td>\n",
       "      <td>38.307602</td>\n",
       "      <td>109.085560</td>\n",
       "      <td>...</td>\n",
       "      <td>70.107360</td>\n",
       "      <td>-155.80257</td>\n",
       "      <td>-101.965943</td>\n",
       "      <td>65.903790</td>\n",
       "      <td>34.457500</td>\n",
       "      <td>62.642094</td>\n",
       "      <td>134.763600</td>\n",
       "      <td>-415.750254</td>\n",
       "      <td>-25.958572</td>\n",
       "      <td>675816-base</td>\n",
       "    </tr>\n",
       "    <tr>\n",
       "      <th>1</th>\n",
       "      <td>1-query</td>\n",
       "      <td>-87.776370</td>\n",
       "      <td>6.806268</td>\n",
       "      <td>-32.054546</td>\n",
       "      <td>-177.26039</td>\n",
       "      <td>120.803330</td>\n",
       "      <td>-83.810590</td>\n",
       "      <td>-94.572749</td>\n",
       "      <td>-78.433090</td>\n",
       "      <td>124.915900</td>\n",
       "      <td>...</td>\n",
       "      <td>4.669178</td>\n",
       "      <td>-151.69771</td>\n",
       "      <td>-1.638704</td>\n",
       "      <td>68.170876</td>\n",
       "      <td>25.096191</td>\n",
       "      <td>89.974976</td>\n",
       "      <td>130.589630</td>\n",
       "      <td>-1035.092211</td>\n",
       "      <td>-51.276833</td>\n",
       "      <td>366656-base</td>\n",
       "    </tr>\n",
       "    <tr>\n",
       "      <th>2</th>\n",
       "      <td>2-query</td>\n",
       "      <td>-49.979565</td>\n",
       "      <td>3.841486</td>\n",
       "      <td>-116.118590</td>\n",
       "      <td>-180.40198</td>\n",
       "      <td>190.128430</td>\n",
       "      <td>-50.837620</td>\n",
       "      <td>26.943937</td>\n",
       "      <td>-30.447489</td>\n",
       "      <td>125.771164</td>\n",
       "      <td>...</td>\n",
       "      <td>78.039764</td>\n",
       "      <td>-169.14620</td>\n",
       "      <td>82.144186</td>\n",
       "      <td>66.008220</td>\n",
       "      <td>18.400496</td>\n",
       "      <td>212.409730</td>\n",
       "      <td>121.931470</td>\n",
       "      <td>-1074.464888</td>\n",
       "      <td>-22.547178</td>\n",
       "      <td>1447819-base</td>\n",
       "    </tr>\n",
       "    <tr>\n",
       "      <th>3</th>\n",
       "      <td>3-query</td>\n",
       "      <td>-47.810562</td>\n",
       "      <td>9.086598</td>\n",
       "      <td>-115.401695</td>\n",
       "      <td>-121.01136</td>\n",
       "      <td>94.652840</td>\n",
       "      <td>-109.255410</td>\n",
       "      <td>-775.150134</td>\n",
       "      <td>79.186520</td>\n",
       "      <td>124.003100</td>\n",
       "      <td>...</td>\n",
       "      <td>44.515266</td>\n",
       "      <td>-145.41675</td>\n",
       "      <td>93.990981</td>\n",
       "      <td>64.131350</td>\n",
       "      <td>106.061920</td>\n",
       "      <td>83.178760</td>\n",
       "      <td>118.277725</td>\n",
       "      <td>-1074.464888</td>\n",
       "      <td>-19.902788</td>\n",
       "      <td>1472602-base</td>\n",
       "    </tr>\n",
       "    <tr>\n",
       "      <th>4</th>\n",
       "      <td>4-query</td>\n",
       "      <td>-79.632126</td>\n",
       "      <td>14.442886</td>\n",
       "      <td>-58.903397</td>\n",
       "      <td>-147.05254</td>\n",
       "      <td>57.127068</td>\n",
       "      <td>-16.239529</td>\n",
       "      <td>-321.317964</td>\n",
       "      <td>45.984676</td>\n",
       "      <td>125.941284</td>\n",
       "      <td>...</td>\n",
       "      <td>45.028910</td>\n",
       "      <td>-196.09207</td>\n",
       "      <td>-117.626337</td>\n",
       "      <td>66.926220</td>\n",
       "      <td>42.456170</td>\n",
       "      <td>77.621765</td>\n",
       "      <td>92.479930</td>\n",
       "      <td>-1074.464888</td>\n",
       "      <td>-21.149351</td>\n",
       "      <td>717819-base</td>\n",
       "    </tr>\n",
       "  </tbody>\n",
       "</table>\n",
       "<p>5 rows × 74 columns</p>\n",
       "</div>"
      ],
      "text/plain": [
       "        Id          0          1           2          3           4  \\\n",
       "0  0-query -53.882748  17.971436  -42.117104 -183.93668  187.517490   \n",
       "1  1-query -87.776370   6.806268  -32.054546 -177.26039  120.803330   \n",
       "2  2-query -49.979565   3.841486 -116.118590 -180.40198  190.128430   \n",
       "3  3-query -47.810562   9.086598 -115.401695 -121.01136   94.652840   \n",
       "4  4-query -79.632126  14.442886  -58.903397 -147.05254   57.127068   \n",
       "\n",
       "            5           6          7           8  ...         63         64  \\\n",
       "0  -87.144930 -347.360606  38.307602  109.085560  ...  70.107360 -155.80257   \n",
       "1  -83.810590  -94.572749 -78.433090  124.915900  ...   4.669178 -151.69771   \n",
       "2  -50.837620   26.943937 -30.447489  125.771164  ...  78.039764 -169.14620   \n",
       "3 -109.255410 -775.150134  79.186520  124.003100  ...  44.515266 -145.41675   \n",
       "4  -16.239529 -321.317964  45.984676  125.941284  ...  45.028910 -196.09207   \n",
       "\n",
       "           65         66          67          68          69           70  \\\n",
       "0 -101.965943  65.903790   34.457500   62.642094  134.763600  -415.750254   \n",
       "1   -1.638704  68.170876   25.096191   89.974976  130.589630 -1035.092211   \n",
       "2   82.144186  66.008220   18.400496  212.409730  121.931470 -1074.464888   \n",
       "3   93.990981  64.131350  106.061920   83.178760  118.277725 -1074.464888   \n",
       "4 -117.626337  66.926220   42.456170   77.621765   92.479930 -1074.464888   \n",
       "\n",
       "          71        Target  \n",
       "0 -25.958572   675816-base  \n",
       "1 -51.276833   366656-base  \n",
       "2 -22.547178  1447819-base  \n",
       "3 -19.902788  1472602-base  \n",
       "4 -21.149351   717819-base  \n",
       "\n",
       "[5 rows x 74 columns]"
      ]
     },
     "execution_count": 4,
     "metadata": {},
     "output_type": "execute_result"
    }
   ],
   "source": [
    "train.head()"
   ]
  },
  {
   "cell_type": "code",
   "execution_count": 5,
   "metadata": {},
   "outputs": [
    {
     "data": {
      "text/plain": [
       "(100000, 74)"
      ]
     },
     "execution_count": 5,
     "metadata": {},
     "output_type": "execute_result"
    }
   ],
   "source": [
    "train.shape"
   ]
  },
  {
   "cell_type": "markdown",
   "metadata": {
    "id": "IWUNRlknBOha"
   },
   "source": [
    "# L2R Model Training"
   ]
  },
  {
   "cell_type": "code",
   "execution_count": 6,
   "metadata": {},
   "outputs": [
    {
     "data": {
      "text/plain": [
       "[('0-query',\n",
       "  ['361564-base',\n",
       "   '1375561-base',\n",
       "   '2515747-base',\n",
       "   '530165-base',\n",
       "   '244376-base',\n",
       "   '3543241-base',\n",
       "   '3411737-base',\n",
       "   '499041-base',\n",
       "   '877519-base',\n",
       "   '91611-base']),\n",
       " ('1-query',\n",
       "  ['15226-base',\n",
       "   '577617-base',\n",
       "   '854272-base',\n",
       "   '3883204-base',\n",
       "   '234491-base',\n",
       "   '732136-base',\n",
       "   '1075687-base',\n",
       "   '3121612-base',\n",
       "   '321221-base',\n",
       "   '511045-base']),\n",
       " ('2-query',\n",
       "  ['1447819-base',\n",
       "   '179726-base',\n",
       "   '2456246-base',\n",
       "   '142037-base',\n",
       "   '3779305-base',\n",
       "   '2027109-base',\n",
       "   '4619736-base',\n",
       "   '292904-base',\n",
       "   '1149627-base',\n",
       "   '1419149-base']),\n",
       " ('3-query',\n",
       "  ['1472602-base',\n",
       "   '1184684-base',\n",
       "   '623886-base',\n",
       "   '1625548-base',\n",
       "   '1384447-base',\n",
       "   '489064-base',\n",
       "   '83039-base',\n",
       "   '446431-base',\n",
       "   '330427-base',\n",
       "   '2752407-base']),\n",
       " ('4-query',\n",
       "  ['717819-base',\n",
       "   '839750-base',\n",
       "   '4728419-base',\n",
       "   '1663474-base',\n",
       "   '624597-base',\n",
       "   '377906-base',\n",
       "   '1896066-base',\n",
       "   '3590756-base',\n",
       "   '254968-base',\n",
       "   '1217803-base'])]"
      ]
     },
     "execution_count": 6,
     "metadata": {},
     "output_type": "execute_result"
    }
   ],
   "source": [
    "# Load the JSON file into a Python dictionary\n",
    "with open(\"./data/predictions_targets.json\", \"r\") as file:\n",
    "    predictions_targets_dict = json.load(file)\n",
    "    file.close()\n",
    "\n",
    "# Display the first few key-value pairs in the dictionary for inspection\n",
    "list(predictions_targets_dict.items())[:5]"
   ]
  },
  {
   "cell_type": "code",
   "execution_count": 7,
   "metadata": {},
   "outputs": [
    {
     "data": {
      "text/html": [
       "<div>\n",
       "<style scoped>\n",
       "    .dataframe tbody tr th:only-of-type {\n",
       "        vertical-align: middle;\n",
       "    }\n",
       "\n",
       "    .dataframe tbody tr th {\n",
       "        vertical-align: top;\n",
       "    }\n",
       "\n",
       "    .dataframe thead th {\n",
       "        text-align: right;\n",
       "    }\n",
       "</style>\n",
       "<table border=\"1\" class=\"dataframe\">\n",
       "  <thead>\n",
       "    <tr style=\"text-align: right;\">\n",
       "      <th></th>\n",
       "      <th>Query_Id</th>\n",
       "      <th>Candidate_Id</th>\n",
       "    </tr>\n",
       "  </thead>\n",
       "  <tbody>\n",
       "    <tr>\n",
       "      <th>0</th>\n",
       "      <td>0-query</td>\n",
       "      <td>361564-base</td>\n",
       "    </tr>\n",
       "    <tr>\n",
       "      <th>1</th>\n",
       "      <td>0-query</td>\n",
       "      <td>1375561-base</td>\n",
       "    </tr>\n",
       "    <tr>\n",
       "      <th>2</th>\n",
       "      <td>0-query</td>\n",
       "      <td>2515747-base</td>\n",
       "    </tr>\n",
       "    <tr>\n",
       "      <th>3</th>\n",
       "      <td>0-query</td>\n",
       "      <td>530165-base</td>\n",
       "    </tr>\n",
       "    <tr>\n",
       "      <th>4</th>\n",
       "      <td>0-query</td>\n",
       "      <td>244376-base</td>\n",
       "    </tr>\n",
       "  </tbody>\n",
       "</table>\n",
       "</div>"
      ],
      "text/plain": [
       "  Query_Id  Candidate_Id\n",
       "0  0-query   361564-base\n",
       "1  0-query  1375561-base\n",
       "2  0-query  2515747-base\n",
       "3  0-query   530165-base\n",
       "4  0-query   244376-base"
      ]
     },
     "execution_count": 7,
     "metadata": {},
     "output_type": "execute_result"
    }
   ],
   "source": [
    "# Transform the dictionary into a flat DataFrame format\n",
    "query_ids = []\n",
    "candidate_ids = []\n",
    "\n",
    "# Loop through the dictionary to populate the lists\n",
    "for query, candidates in predictions_targets_dict.items():\n",
    "    for candidate in candidates:\n",
    "        query_ids.append(query)\n",
    "        candidate_ids.append(candidate)\n",
    "\n",
    "# Convert the lists into a DataFrame\n",
    "faiss_results_df = pd.DataFrame({\n",
    "    'Query_Id': query_ids,\n",
    "    'Candidate_Id': candidate_ids\n",
    "})\n",
    "\n",
    "faiss_results_df.head()"
   ]
  },
  {
   "cell_type": "code",
   "execution_count": 8,
   "metadata": {},
   "outputs": [
    {
     "data": {
      "text/plain": [
       "(917940, 2)"
      ]
     },
     "execution_count": 8,
     "metadata": {},
     "output_type": "execute_result"
    }
   ],
   "source": [
    "faiss_results_df.shape"
   ]
  },
  {
   "cell_type": "code",
   "execution_count": 9,
   "metadata": {},
   "outputs": [
    {
     "data": {
      "text/html": [
       "<div>\n",
       "<style scoped>\n",
       "    .dataframe tbody tr th:only-of-type {\n",
       "        vertical-align: middle;\n",
       "    }\n",
       "\n",
       "    .dataframe tbody tr th {\n",
       "        vertical-align: top;\n",
       "    }\n",
       "\n",
       "    .dataframe thead th {\n",
       "        text-align: right;\n",
       "    }\n",
       "</style>\n",
       "<table border=\"1\" class=\"dataframe\">\n",
       "  <thead>\n",
       "    <tr style=\"text-align: right;\">\n",
       "      <th></th>\n",
       "      <th>Query_Id</th>\n",
       "      <th>Candidate_Id</th>\n",
       "      <th>0_diff</th>\n",
       "      <th>1_diff</th>\n",
       "      <th>2_diff</th>\n",
       "      <th>3_diff</th>\n",
       "      <th>4_diff</th>\n",
       "      <th>5_diff</th>\n",
       "      <th>6_diff</th>\n",
       "      <th>7_diff</th>\n",
       "      <th>...</th>\n",
       "      <th>63_diff</th>\n",
       "      <th>64_diff</th>\n",
       "      <th>65_diff</th>\n",
       "      <th>66_diff</th>\n",
       "      <th>67_diff</th>\n",
       "      <th>68_diff</th>\n",
       "      <th>69_diff</th>\n",
       "      <th>70_diff</th>\n",
       "      <th>71_diff</th>\n",
       "      <th>Target_L2R</th>\n",
       "    </tr>\n",
       "  </thead>\n",
       "  <tbody>\n",
       "    <tr>\n",
       "      <th>0</th>\n",
       "      <td>0-query</td>\n",
       "      <td>361564-base</td>\n",
       "      <td>6.338712</td>\n",
       "      <td>0.555882</td>\n",
       "      <td>2.766986</td>\n",
       "      <td>3.35803</td>\n",
       "      <td>10.24057</td>\n",
       "      <td>-7.208040</td>\n",
       "      <td>412.265459</td>\n",
       "      <td>-11.900298</td>\n",
       "      <td>...</td>\n",
       "      <td>-12.971950</td>\n",
       "      <td>14.22610</td>\n",
       "      <td>-213.930144</td>\n",
       "      <td>0.11825</td>\n",
       "      <td>-4.633908</td>\n",
       "      <td>17.867024</td>\n",
       "      <td>7.92966</td>\n",
       "      <td>174.087874</td>\n",
       "      <td>18.063721</td>\n",
       "      <td>0</td>\n",
       "    </tr>\n",
       "    <tr>\n",
       "      <th>1</th>\n",
       "      <td>16747-query</td>\n",
       "      <td>361564-base</td>\n",
       "      <td>-15.324805</td>\n",
       "      <td>-2.823055</td>\n",
       "      <td>-19.542660</td>\n",
       "      <td>16.44458</td>\n",
       "      <td>16.49818</td>\n",
       "      <td>9.296440</td>\n",
       "      <td>680.426865</td>\n",
       "      <td>8.223496</td>\n",
       "      <td>...</td>\n",
       "      <td>7.344430</td>\n",
       "      <td>5.67448</td>\n",
       "      <td>-238.973847</td>\n",
       "      <td>0.63214</td>\n",
       "      <td>-4.824364</td>\n",
       "      <td>-22.379139</td>\n",
       "      <td>0.46874</td>\n",
       "      <td>-548.630964</td>\n",
       "      <td>7.378573</td>\n",
       "      <td>0</td>\n",
       "    </tr>\n",
       "    <tr>\n",
       "      <th>2</th>\n",
       "      <td>39372-query</td>\n",
       "      <td>361564-base</td>\n",
       "      <td>-20.371436</td>\n",
       "      <td>0.122210</td>\n",
       "      <td>-3.654190</td>\n",
       "      <td>2.93686</td>\n",
       "      <td>-1.39196</td>\n",
       "      <td>15.919540</td>\n",
       "      <td>776.451515</td>\n",
       "      <td>2.464833</td>\n",
       "      <td>...</td>\n",
       "      <td>8.833135</td>\n",
       "      <td>-15.84862</td>\n",
       "      <td>-112.315377</td>\n",
       "      <td>0.14332</td>\n",
       "      <td>12.426702</td>\n",
       "      <td>-20.876797</td>\n",
       "      <td>4.48402</td>\n",
       "      <td>352.492461</td>\n",
       "      <td>25.946973</td>\n",
       "      <td>0</td>\n",
       "    </tr>\n",
       "    <tr>\n",
       "      <th>3</th>\n",
       "      <td>51736-query</td>\n",
       "      <td>361564-base</td>\n",
       "      <td>12.316385</td>\n",
       "      <td>-1.236839</td>\n",
       "      <td>-19.696230</td>\n",
       "      <td>1.95479</td>\n",
       "      <td>-2.56882</td>\n",
       "      <td>9.095600</td>\n",
       "      <td>1.020728</td>\n",
       "      <td>-0.844530</td>\n",
       "      <td>...</td>\n",
       "      <td>1.418480</td>\n",
       "      <td>-7.51790</td>\n",
       "      <td>-47.994667</td>\n",
       "      <td>0.62228</td>\n",
       "      <td>13.850922</td>\n",
       "      <td>7.825867</td>\n",
       "      <td>8.65172</td>\n",
       "      <td>-484.626760</td>\n",
       "      <td>3.944576</td>\n",
       "      <td>0</td>\n",
       "    </tr>\n",
       "    <tr>\n",
       "      <th>4</th>\n",
       "      <td>78506-query</td>\n",
       "      <td>361564-base</td>\n",
       "      <td>-11.100260</td>\n",
       "      <td>0.285606</td>\n",
       "      <td>-4.704834</td>\n",
       "      <td>2.27825</td>\n",
       "      <td>-16.62448</td>\n",
       "      <td>1.762986</td>\n",
       "      <td>277.357810</td>\n",
       "      <td>-0.684020</td>\n",
       "      <td>...</td>\n",
       "      <td>7.786510</td>\n",
       "      <td>-6.99577</td>\n",
       "      <td>-210.755128</td>\n",
       "      <td>0.63065</td>\n",
       "      <td>2.905159</td>\n",
       "      <td>-30.589397</td>\n",
       "      <td>-4.63740</td>\n",
       "      <td>-484.626760</td>\n",
       "      <td>8.646660</td>\n",
       "      <td>0</td>\n",
       "    </tr>\n",
       "  </tbody>\n",
       "</table>\n",
       "<p>5 rows × 75 columns</p>\n",
       "</div>"
      ],
      "text/plain": [
       "      Query_Id Candidate_Id     0_diff    1_diff     2_diff    3_diff  \\\n",
       "0      0-query  361564-base   6.338712  0.555882   2.766986   3.35803   \n",
       "1  16747-query  361564-base -15.324805 -2.823055 -19.542660  16.44458   \n",
       "2  39372-query  361564-base -20.371436  0.122210  -3.654190   2.93686   \n",
       "3  51736-query  361564-base  12.316385 -1.236839 -19.696230   1.95479   \n",
       "4  78506-query  361564-base -11.100260  0.285606  -4.704834   2.27825   \n",
       "\n",
       "     4_diff     5_diff      6_diff     7_diff  ...    63_diff   64_diff  \\\n",
       "0  10.24057  -7.208040  412.265459 -11.900298  ... -12.971950  14.22610   \n",
       "1  16.49818   9.296440  680.426865   8.223496  ...   7.344430   5.67448   \n",
       "2  -1.39196  15.919540  776.451515   2.464833  ...   8.833135 -15.84862   \n",
       "3  -2.56882   9.095600    1.020728  -0.844530  ...   1.418480  -7.51790   \n",
       "4 -16.62448   1.762986  277.357810  -0.684020  ...   7.786510  -6.99577   \n",
       "\n",
       "      65_diff  66_diff    67_diff    68_diff  69_diff     70_diff    71_diff  \\\n",
       "0 -213.930144  0.11825  -4.633908  17.867024  7.92966  174.087874  18.063721   \n",
       "1 -238.973847  0.63214  -4.824364 -22.379139  0.46874 -548.630964   7.378573   \n",
       "2 -112.315377  0.14332  12.426702 -20.876797  4.48402  352.492461  25.946973   \n",
       "3  -47.994667  0.62228  13.850922   7.825867  8.65172 -484.626760   3.944576   \n",
       "4 -210.755128  0.63065   2.905159 -30.589397 -4.63740 -484.626760   8.646660   \n",
       "\n",
       "   Target_L2R  \n",
       "0           0  \n",
       "1           0  \n",
       "2           0  \n",
       "3           0  \n",
       "4           0  \n",
       "\n",
       "[5 rows x 75 columns]"
      ]
     },
     "execution_count": 9,
     "metadata": {},
     "output_type": "execute_result"
    }
   ],
   "source": [
    "# Merge train with faiss_results_df to get feature vectors for queries\n",
    "merged_train = train.merge(faiss_results_df, left_on=\"Id\", right_on=\"Query_Id\")\n",
    "\n",
    "# Merge the above result with base to get feature vectors for candidates\n",
    "merged_data = merged_train.merge(base, left_on=\"Candidate_Id\", right_on=\"Id\", suffixes=('_query', '_candidate'))\n",
    "\n",
    "# Calculate the difference for all features\n",
    "feature_columns = [col for col in train.columns if col not in [\"Id\", \"Target\"]]\n",
    "for feature in feature_columns:\n",
    "    merged_data[f\"{feature}_diff\"] = merged_data[f\"{feature}_query\"] - merged_data[f\"{feature}_candidate\"]\n",
    "\n",
    "# Set the Target: 1 if Candidate_Id matches Target from train, 0 otherwise\n",
    "merged_data[\"Target_L2R\"] = (merged_data[\"Candidate_Id\"] == merged_data[\"Target\"]).astype(int)\n",
    "\n",
    "# Final L2R dataset\n",
    "l2r_dataset = merged_data[[\"Query_Id\", \"Candidate_Id\"] + [f\"{feature}_diff\" for feature in feature_columns] + [\"Target_L2R\"]]\n",
    "\n",
    "# Display the first few rows of the adapted dataset\n",
    "l2r_dataset.head()"
   ]
  },
  {
   "cell_type": "code",
   "execution_count": 10,
   "metadata": {},
   "outputs": [
    {
     "data": {
      "text/plain": [
       "0    850763\n",
       "1     67177\n",
       "Name: Target_L2R, dtype: int64"
      ]
     },
     "execution_count": 10,
     "metadata": {},
     "output_type": "execute_result"
    }
   ],
   "source": [
    "l2r_dataset[\"Target_L2R\"].value_counts()"
   ]
  },
  {
   "cell_type": "code",
   "execution_count": 11,
   "metadata": {},
   "outputs": [
    {
     "data": {
      "text/plain": [
       "(917940, 75)"
      ]
     },
     "execution_count": 11,
     "metadata": {},
     "output_type": "execute_result"
    }
   ],
   "source": [
    "l2r_dataset.shape"
   ]
  },
  {
   "cell_type": "markdown",
   "metadata": {},
   "source": [
    "# L2R Modeling"
   ]
  },
  {
   "cell_type": "markdown",
   "metadata": {},
   "source": [
    "## XGBClassifier"
   ]
  },
  {
   "cell_type": "code",
   "execution_count": 12,
   "metadata": {},
   "outputs": [
    {
     "name": "stdout",
     "output_type": "stream",
     "text": [
      "      Query_Id Candidate_Id     0_diff    1_diff     2_diff    3_diff  \\\n",
      "0      0-query  361564-base   6.338712  0.555882   2.766986   3.35803   \n",
      "1  16747-query  361564-base -15.324805 -2.823055 -19.542660  16.44458   \n",
      "2  39372-query  361564-base -20.371436  0.122210  -3.654190   2.93686   \n",
      "3  51736-query  361564-base  12.316385 -1.236839 -19.696230   1.95479   \n",
      "4  78506-query  361564-base -11.100260  0.285606  -4.704834   2.27825   \n",
      "\n",
      "     4_diff     5_diff     7_diff   8_diff  ...  61_diff    62_diff  \\\n",
      "0  10.24057  -7.208040 -11.900298 -3.46740  ... -3.79131 -16.288866   \n",
      "1  16.49818   9.296440   8.223496 -1.64476  ... -3.28058  -3.971426   \n",
      "2  -1.39196  15.919540   2.464833  0.22253  ... -2.22205  -3.133946   \n",
      "3  -2.56882   9.095600  -0.844530  2.84566  ... -2.68282 -10.134926   \n",
      "4 -16.62448   1.762986  -0.684020  0.04751  ... -0.14190  -5.341596   \n",
      "\n",
      "     63_diff   64_diff  66_diff    67_diff    68_diff  69_diff    71_diff  \\\n",
      "0 -12.971950  14.22610  0.11825  -4.633908  17.867024  7.92966  18.063721   \n",
      "1   7.344430   5.67448  0.63214  -4.824364 -22.379139  0.46874   7.378573   \n",
      "2   8.833135 -15.84862  0.14332  12.426702 -20.876797  4.48402  25.946973   \n",
      "3   1.418480  -7.51790  0.62228  13.850922   7.825867  8.65172   3.944576   \n",
      "4   7.786510  -6.99577  0.63065   2.905159 -30.589397 -4.63740   8.646660   \n",
      "\n",
      "   Target_L2R  \n",
      "0           0  \n",
      "1           0  \n",
      "2           0  \n",
      "3           0  \n",
      "4           0  \n",
      "\n",
      "[5 rows x 67 columns]\n",
      "\n",
      "(917940, 67)\n"
     ]
    }
   ],
   "source": [
    "drop_columns = [\"6\", \"44\", \"70\", \"21\", \"25\", \"33\", \"59\", \"65\"]\n",
    "\n",
    "# Create a list of difference columns to drop based on the provided drop_columns list\n",
    "drop_diff_columns = [f\"{col}_diff\" for col in drop_columns]\n",
    "\n",
    "l2r_dataset = l2r_dataset.drop(columns=drop_diff_columns)\n",
    "\n",
    "print(l2r_dataset.head())\n",
    "print()\n",
    "print(l2r_dataset.shape)"
   ]
  },
  {
   "cell_type": "code",
   "execution_count": 13,
   "metadata": {},
   "outputs": [
    {
     "data": {
      "text/plain": [
       "((734352, 64), (183588, 64))"
      ]
     },
     "execution_count": 13,
     "metadata": {},
     "output_type": "execute_result"
    }
   ],
   "source": [
    "# Splitting the dataset into features (X) and target label (y)\n",
    "X = l2r_dataset.drop(columns=['Query_Id', 'Candidate_Id', 'Target_L2R'])\n",
    "y = l2r_dataset['Target_L2R']\n",
    "\n",
    "# Splitting the data into training and validation sets (80% train, 20% validation)\n",
    "X_train, X_val, y_train, y_val = train_test_split(X, y, test_size=0.2, random_state=42)\n",
    "\n",
    "X_train.shape, X_val.shape"
   ]
  },
  {
   "cell_type": "code",
   "execution_count": 14,
   "metadata": {},
   "outputs": [],
   "source": [
    "# # Initialize and train the L2R model using XGBoost\n",
    "# model_xgb = xgb.XGBClassifier(objective=\"binary:logistic\", eval_metric=\"logloss\")\n",
    "# model_xgb.fit(X_train, y_train)\n",
    "\n",
    "# # Validate the model on the validation set\n",
    "# y_pred_xgb = model_xgb.predict(X_val)\n",
    "# accuracy_xgb = accuracy_score(y_val, y_pred_xgb)\n",
    "# accuracy_xgb"
   ]
  },
  {
   "cell_type": "markdown",
   "metadata": {},
   "source": [
    "## Catboost"
   ]
  },
  {
   "cell_type": "code",
   "execution_count": 15,
   "metadata": {},
   "outputs": [
    {
     "data": {
      "application/vnd.jupyter.widget-view+json": {
       "model_id": "75d0b94983304adea738cdd33c45331e",
       "version_major": 2,
       "version_minor": 0
      },
      "text/plain": [
       "MetricVisualizer(layout=Layout(align_self='stretch', height='500px'))"
      ]
     },
     "metadata": {},
     "output_type": "display_data"
    },
    {
     "name": "stdout",
     "output_type": "stream",
     "text": [
      "0:\tlearn: 0.5609685\ttest: 0.5612298\tbest: 0.5612298 (0)\ttotal: 97.7ms\tremaining: 1m 37s\n",
      "bestTest = 0.1721107095\n",
      "bestIteration = 108\n",
      "Shrink model to first 109 iterations.\n"
     ]
    },
    {
     "data": {
      "text/plain": [
       "0.9389611521450204"
      ]
     },
     "execution_count": 15,
     "metadata": {},
     "output_type": "execute_result"
    }
   ],
   "source": [
    "# Initialize the CatBoostClassifier model\n",
    "cat_model = catboost.CatBoostClassifier(\n",
    "    iterations=1000,\n",
    "    learning_rate=0.1,\n",
    "    depth=13,\n",
    "    loss_function='Logloss',\n",
    "    verbose=500,\n",
    "    early_stopping_rounds=2, \n",
    "    devices=\"0:1\",\n",
    "    task_type=\"GPU\"\n",
    ")\n",
    "\n",
    "# Train the model on the training data\n",
    "cat_model.fit(X_train, y_train, eval_set=(X_val, y_val), plot=True)\n",
    "\n",
    "y_pred_cat = cat_model.predict(X_val)\n",
    "accuracy_cat = accuracy_score(y_val, y_pred_cat)\n",
    "accuracy_cat"
   ]
  },
  {
   "cell_type": "markdown",
   "metadata": {},
   "source": [
    "# Predicting Probabilities, Sorting/Re-Ranking, Top 5 Candidates Selection"
   ]
  },
  {
   "cell_type": "code",
   "execution_count": 16,
   "metadata": {},
   "outputs": [],
   "source": [
    "validation = pd.read_csv(\"./data/validation.csv\")\n",
    "validation_answer = pd.read_csv(\"./data/validation_answer.csv\")"
   ]
  },
  {
   "cell_type": "code",
   "execution_count": 17,
   "metadata": {},
   "outputs": [],
   "source": [
    "validation = validation.drop(drop_columns, axis=1)"
   ]
  },
  {
   "cell_type": "code",
   "execution_count": 18,
   "metadata": {},
   "outputs": [
    {
     "data": {
      "text/html": [
       "<div>\n",
       "<style scoped>\n",
       "    .dataframe tbody tr th:only-of-type {\n",
       "        vertical-align: middle;\n",
       "    }\n",
       "\n",
       "    .dataframe tbody tr th {\n",
       "        vertical-align: top;\n",
       "    }\n",
       "\n",
       "    .dataframe thead th {\n",
       "        text-align: right;\n",
       "    }\n",
       "</style>\n",
       "<table border=\"1\" class=\"dataframe\">\n",
       "  <thead>\n",
       "    <tr style=\"text-align: right;\">\n",
       "      <th></th>\n",
       "      <th>Query_Id</th>\n",
       "      <th>Candidate_Id</th>\n",
       "    </tr>\n",
       "  </thead>\n",
       "  <tbody>\n",
       "    <tr>\n",
       "      <th>0</th>\n",
       "      <td>100000-query</td>\n",
       "      <td>2760762-base</td>\n",
       "    </tr>\n",
       "    <tr>\n",
       "      <th>1</th>\n",
       "      <td>100000-query</td>\n",
       "      <td>3209652-base</td>\n",
       "    </tr>\n",
       "    <tr>\n",
       "      <th>2</th>\n",
       "      <td>100000-query</td>\n",
       "      <td>1542803-base</td>\n",
       "    </tr>\n",
       "    <tr>\n",
       "      <th>3</th>\n",
       "      <td>100000-query</td>\n",
       "      <td>3839597-base</td>\n",
       "    </tr>\n",
       "    <tr>\n",
       "      <th>4</th>\n",
       "      <td>100000-query</td>\n",
       "      <td>508555-base</td>\n",
       "    </tr>\n",
       "  </tbody>\n",
       "</table>\n",
       "</div>"
      ],
      "text/plain": [
       "       Query_Id  Candidate_Id\n",
       "0  100000-query  2760762-base\n",
       "1  100000-query  3209652-base\n",
       "2  100000-query  1542803-base\n",
       "3  100000-query  3839597-base\n",
       "4  100000-query   508555-base"
      ]
     },
     "execution_count": 18,
     "metadata": {},
     "output_type": "execute_result"
    }
   ],
   "source": [
    "with open(\"./data/predictions_targets_valid.json\", \"r\") as file:\n",
    "    validation_predictions_targets = json.load(file)  \n",
    "    file.close()\n",
    "    \n",
    "# Transform the dictionary into a flat DataFrame format\n",
    "query_ids = []\n",
    "candidate_ids = []\n",
    "\n",
    "# Loop through the dictionary to populate the lists\n",
    "for query, candidates in validation_predictions_targets.items():\n",
    "    for candidate in candidates:\n",
    "        query_ids.append(query)\n",
    "        candidate_ids.append(candidate)\n",
    "\n",
    "# Convert the lists into a DataFrame\n",
    "validation_nearest_neighbors_df = pd.DataFrame({\n",
    "    'Query_Id': query_ids,\n",
    "    'Candidate_Id': candidate_ids\n",
    "})\n",
    "\n",
    "validation_nearest_neighbors_df.head()"
   ]
  },
  {
   "cell_type": "code",
   "execution_count": 19,
   "metadata": {},
   "outputs": [
    {
     "data": {
      "text/plain": [
       "(915020, 2)"
      ]
     },
     "execution_count": 19,
     "metadata": {},
     "output_type": "execute_result"
    }
   ],
   "source": [
    "validation_nearest_neighbors_df.shape"
   ]
  },
  {
   "cell_type": "code",
   "execution_count": 22,
   "metadata": {},
   "outputs": [],
   "source": [
    "# Merge with validation.csv to get feature vectors for queries\n",
    "merged_validation = validation.merge(validation_nearest_neighbors_df, left_on=\"Id\", right_on=\"Query_Id\")\n",
    "# merged_validation = merged_validation.drop(drop_columns, axis=1)\n",
    "\n",
    "# Merge the above result with base_sample.csv to get feature vectors for candidates\n",
    "merged_validation_data = merged_validation.merge(base, left_on=\"Candidate_Id\", right_on=\"Id\", suffixes=('_query', '_candidate'))"
   ]
  },
  {
   "cell_type": "code",
   "execution_count": 23,
   "metadata": {},
   "outputs": [],
   "source": [
    "feature_columns = ['0', '1', '2', '3', '4', '5', '7', '8', '9', '10', '11', '12',\n",
    "       '13', '14', '15', '16', '17', '18', '19', '20', '22', '23', '24', '26',\n",
    "       '27', '28', '29', '30', '31', '32', '34', '35', '36', '37', '38', '39',\n",
    "       '40', '41', '42', '43', '45', '46', '47', '48', '49', '50', '51', '52',\n",
    "       '53', '54', '55', '56', '57', '58', '60', '61', '62', '63', '64', '66',\n",
    "       '67', '68', '69', '71']"
   ]
  },
  {
   "cell_type": "code",
   "execution_count": 24,
   "metadata": {},
   "outputs": [],
   "source": [
    "feature_diff_columns = [f\"{x}_diff\" for x in feature_columns]\n",
    "feature_query_columns = [f\"{x}_query\" for x in feature_columns]\n",
    "feature_candidate_columns = [f\"{x}_candidate\" for x in feature_columns]"
   ]
  },
  {
   "cell_type": "code",
   "execution_count": 25,
   "metadata": {},
   "outputs": [],
   "source": [
    "base = None\n",
    "train = None\n",
    "X = None\n",
    "y = None\n",
    "X_train = None\n",
    "X_val = None\n",
    "y_train = None \n",
    "y_val = None"
   ]
  },
  {
   "cell_type": "code",
   "execution_count": 26,
   "metadata": {},
   "outputs": [],
   "source": [
    "# Calculate the difference for all features\n",
    "feature_columns = [col for col in validation.columns if col not in [\"Id\", \"Target\"]]\n",
    "for feature in feature_columns:\n",
    "    merged_validation_data[f\"{feature}_diff\"] = merged_validation_data[f\"{feature}_query\"] - merged_validation_data[f\"{feature}_candidate\"]"
   ]
  },
  {
   "cell_type": "code",
   "execution_count": 27,
   "metadata": {},
   "outputs": [],
   "source": [
    "#Use the trained CatBoost model to predict the relevance probabilities for each candidate\n",
    "probs = cat_model.predict_proba(merged_validation_data[feature_diff_columns])[:, 1]"
   ]
  },
  {
   "cell_type": "code",
   "execution_count": 29,
   "metadata": {},
   "outputs": [],
   "source": [
    "# For each query, sort its candidates based on the predicted probabilities\n",
    "merged_validation_data[\"predicted_prob\"] = probs\n",
    "sorted_candidates = merged_validation_data.groupby(\"Query_Id\").apply(lambda x: x.nlargest(5, 'predicted_prob')).reset_index(drop=True)"
   ]
  },
  {
   "cell_type": "markdown",
   "metadata": {},
   "source": [
    "# Evaluation"
   ]
  },
  {
   "cell_type": "code",
   "execution_count": 35,
   "metadata": {},
   "outputs": [
    {
     "name": "stderr",
     "output_type": "stream",
     "text": [
      "100000it [37:24, 44.56it/s]\n"
     ]
    },
    {
     "data": {
      "text/plain": [
       "0.63303"
      ]
     },
     "execution_count": 35,
     "metadata": {},
     "output_type": "execute_result"
    }
   ],
   "source": [
    "# Evaluate using accuracy@5 metric\n",
    "\n",
    "correct = 0\n",
    "for _, row in tqdm.tqdm(validation_answer.iterrows()):\n",
    "    top_5 = sorted_candidates[sorted_candidates[\"Query_Id\"] == row[\"Id\"]][\"Candidate_Id\"].tolist()\n",
    "    if row[\"Expected\"] in top_5:\n",
    "        correct += 1\n",
    "\n",
    "accuracy_at_5 = correct / len(validation_answer)\n",
    "accuracy_at_5"
   ]
  }
 ],
 "metadata": {
  "colab": {
   "provenance": []
  },
  "kernelspec": {
   "display_name": "Python 3",
   "language": "python",
   "name": "python3"
  },
  "language_info": {
   "codemirror_mode": {
    "name": "ipython",
    "version": 3
   },
   "file_extension": ".py",
   "mimetype": "text/x-python",
   "name": "python",
   "nbconvert_exporter": "python",
   "pygments_lexer": "ipython3",
   "version": "3.9.16"
  }
 },
 "nbformat": 4,
 "nbformat_minor": 1
}
